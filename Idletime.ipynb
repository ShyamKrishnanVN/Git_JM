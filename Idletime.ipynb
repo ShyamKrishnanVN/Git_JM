{
  "cells": [
    {
      "cell_type": "code",
      "metadata": {
        "id": "20611077_0.8084738885235958"
      },
      "execution_count": 4,
      "source": [
        "import time\n\ndef long_running_function():\n    # Start time\n    start_time = time.time()\n\n    # 40 minutes in seconds\n    duration = 40 * 60  # 60 seconds/minute * 40 minutes\n\n    # Perform your operations within the while loop\n    while (time.time() - start_time) < duration:\n        # Perform your desired operations here\n        pass\n\n    # Print a message or return something at the end\n    print(\"40 minutes have elapsed.\")\n\n# Call the function\nlong_running_function()\n"
      ],
      "outputs": [
        {
          "data": {
            "text/plain": "3"
          },
          "metadata": {},
          "execution_count": 4,
          "output_type": "execute_result"
        }
      ]
    },
    {
      "cell_type": "markdown",
      "metadata": {
        "id": "20611077_0.7851905621948054"
      },
      "execution_count": null,
      "source": [
        "ccc"
      ],
      "outputs": []
    }
  ],
  "metadata": {},
  "nbformat": 4,
  "nbformat_minor": 2
}
