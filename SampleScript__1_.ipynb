{
  "cells": [
    {
      "cell_type": "code",
      "metadata": {
        "id": "11730965_0.1544325152381698"
      },
      "execution_count": 2,
      "source": [
        "def sample_func():\n    #sklearn train model new_V3\n    import pandas\n    from sklearn  import model_selection\n    from sklearn.linear_model import LogisticRegression\n    from sklearn.naive_bayes import GaussianNB\n    from sklearn.naive_bayes import MultinomialNB\n    import pickle as pkle\n    url = \"https://raw.githubusercontent.com/jbrownlee/Datasets/master/pima-indians-diabetes.data.csv\"\n    names = ['preg', 'plas', 'pres', 'skin', 'test', 'mass', 'pedi', 'age', 'class']\n    dataframe = pandas.read_csv(url, names=names)\n    array = dataframe.values\n    X = array[:,0:8]\n    Y = array[:,8]\n    test_size = 0.33\n    seed = 7\n    X_train, X_test, Y_train, Y_test = model_selection.train_test_split(X, Y, test_size=test_size, random_state=seed)\n    model = MultinomialNB()\n    model.fit(X_train, Y_train);\n    return dataframe"
      ],
      "outputs": []
    }
  ],
  "metadata": {},
  "nbformat": 4,
  "nbformat_minor": 2
}