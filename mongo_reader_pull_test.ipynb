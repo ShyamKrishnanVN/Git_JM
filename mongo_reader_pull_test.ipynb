{
 "cells": [
  {
   "cell_type": "code",
   "execution_count": null,
   "metadata": {},
   "outputs": [],
   "source": [
    "import mongo_conn\n",
    "\n",
    "def read_data():\n",
    "    client=mongo_conn.create_mongo_connection()\n",
    "    db=client.sample_airbnb\n",
    "    rows=db.listingsAndReviews.find().limit(10)\n",
    "    records=[]\n",
    "    for row in rows:\n",
    "        print(row)\n",
    "        records.append(row)\n",
    "    client.close()\n",
    "    return records"
   ]
  }
 ],
 "metadata": {
  "kernelspec": {
   "display_name": "Python 3",
   "language": "python",
   "name": "python3"
  },
  "language_info": {
   "codemirror_mode": {
    "name": "ipython",
    "version": 3
   },
   "file_extension": ".py",
   "mimetype": "text/x-python",
   "name": "python",
   "nbconvert_exporter": "python",
   "pygments_lexer": "ipython3",
   "version": "3.7.12"
  }
 },
 "nbformat": 4,
 "nbformat_minor": 2
}
