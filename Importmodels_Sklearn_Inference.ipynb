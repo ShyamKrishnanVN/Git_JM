{
  "cells": [
    {
      "cell_type": "code",
      "metadata": {
        "id": "973537327_0.8182368958424471"
      },
      "execution_count": 1,
      "source": [
        "#Import required libraries\nimport pandas as pd\nfrom sklearn import model_selection\nfrom sklearn.linear_model import LogisticRegression\nimport pickle\ndef SklearnModelInference():\n    #Access data\n    url = \"https://raw.githubusercontent.com/jbrownlee/Datasets/master/pima-indians-diabetes.data.csv\"\n    names = ['preg', 'plas', 'pres', 'skin', 'test', 'mass', 'pedi', 'age', 'class']\n    dataframe = pd.read_csv(url, names=names)\n    \n    #Create test and train data\n    array = dataframe.values\n    X = array[:,0:8]\n    Y = array[:,8]\n    test_size = 0.33\n    seed = 7\n    X_train, X_test, Y_train, Y_test = model_selection.train_test_split(X, Y, test_size=test_size, random_state=seed)\n    \n    #Load the DS Lab model\n    from Notebook.DSNotebook.NotebookExecutor import NotebookExecutor\n    nb = NotebookExecutor()\n    loaded_model = nb.load_saved_model('11121674207581238')\n    \n    #Sklearn Predict function (Native)\n    Predictions = loaded_model.predict(X_test)\n    \n    #Get predicted output\n    df_test = pd.DataFrame(X_test, columns = ['preg', 'plas', 'pres', 'skin', 'test', 'mass', 'pedi', 'age'])\n    df_test['Predictions'] = Predictions\n    return df_test"
      ],
      "outputs": []
    },
    {
      "cell_type": "code",
      "metadata": {
        "id": "973537348_0.45141640446360465"
      },
      "execution_count": 2,
      "source": [
        "SklearnModelInference()"
      ],
      "outputs": [
        {
          "data": {
            "text/plain": [
              "     preg   plas  pres  skin   test  mass   pedi   age  Predictions\n0     1.0   90.0  62.0  12.0   43.0  27.2  0.580  24.0          0.0\n1     7.0  181.0  84.0  21.0  192.0  35.9  0.586  51.0          1.0\n2    13.0  152.0  90.0  33.0   29.0  26.8  0.731  43.0          0.0\n3     6.0   93.0  50.0  30.0   64.0  28.7  0.356  23.0          0.0\n4     6.0  125.0  78.0  31.0    0.0  27.6  0.565  49.0          0.0\n..    ...    ...   ...   ...    ...   ...    ...   ...          ...\n249   9.0   57.0  80.0  37.0    0.0  32.8  0.096  41.0          0.0\n250   1.0  103.0  80.0  11.0   82.0  19.4  0.491  22.0          0.0\n251   4.0  118.0  70.0   0.0    0.0  44.5  0.904  26.0          0.0\n252   7.0  152.0  88.0  44.0    0.0  50.0  0.337  36.0          0.0\n253   7.0  168.0  88.0  42.0  321.0  38.2  0.787  40.0          1.0\n\n[254 rows x 9 columns]"
            ],
            "text/html": [
              "<div>\n<style scoped>\n    .dataframe tbody tr th:only-of-type {\n        vertical-align: middle;\n    }\n\n    .dataframe tbody tr th {\n        vertical-align: top;\n    }\n\n    .dataframe thead th {\n        text-align: right;\n    }\n</style>\n<table border=\"1\" class=\"dataframe\">\n  <thead>\n    <tr style=\"text-align: right;\">\n      <th></th>\n      <th>preg</th>\n      <th>plas</th>\n      <th>pres</th>\n      <th>skin</th>\n      <th>test</th>\n      <th>mass</th>\n      <th>pedi</th>\n      <th>age</th>\n      <th>Predictions</th>\n    </tr>\n  </thead>\n  <tbody>\n    <tr>\n      <th>0</th>\n      <td>1.0</td>\n      <td>90.0</td>\n      <td>62.0</td>\n      <td>12.0</td>\n      <td>43.0</td>\n      <td>27.2</td>\n      <td>0.580</td>\n      <td>24.0</td>\n      <td>0.0</td>\n    </tr>\n    <tr>\n      <th>1</th>\n      <td>7.0</td>\n      <td>181.0</td>\n      <td>84.0</td>\n      <td>21.0</td>\n      <td>192.0</td>\n      <td>35.9</td>\n      <td>0.586</td>\n      <td>51.0</td>\n      <td>1.0</td>\n    </tr>\n    <tr>\n      <th>2</th>\n      <td>13.0</td>\n      <td>152.0</td>\n      <td>90.0</td>\n      <td>33.0</td>\n      <td>29.0</td>\n      <td>26.8</td>\n      <td>0.731</td>\n      <td>43.0</td>\n      <td>0.0</td>\n    </tr>\n    <tr>\n      <th>3</th>\n      <td>6.0</td>\n      <td>93.0</td>\n      <td>50.0</td>\n      <td>30.0</td>\n      <td>64.0</td>\n      <td>28.7</td>\n      <td>0.356</td>\n      <td>23.0</td>\n      <td>0.0</td>\n    </tr>\n    <tr>\n      <th>4</th>\n      <td>6.0</td>\n      <td>125.0</td>\n      <td>78.0</td>\n      <td>31.0</td>\n      <td>0.0</td>\n      <td>27.6</td>\n      <td>0.565</td>\n      <td>49.0</td>\n      <td>0.0</td>\n    </tr>\n    <tr>\n      <th>...</th>\n      <td>...</td>\n      <td>...</td>\n      <td>...</td>\n      <td>...</td>\n      <td>...</td>\n      <td>...</td>\n      <td>...</td>\n      <td>...</td>\n      <td>...</td>\n    </tr>\n    <tr>\n      <th>249</th>\n      <td>9.0</td>\n      <td>57.0</td>\n      <td>80.0</td>\n      <td>37.0</td>\n      <td>0.0</td>\n      <td>32.8</td>\n      <td>0.096</td>\n      <td>41.0</td>\n      <td>0.0</td>\n    </tr>\n    <tr>\n      <th>250</th>\n      <td>1.0</td>\n      <td>103.0</td>\n      <td>80.0</td>\n      <td>11.0</td>\n      <td>82.0</td>\n      <td>19.4</td>\n      <td>0.491</td>\n      <td>22.0</td>\n      <td>0.0</td>\n    </tr>\n    <tr>\n      <th>251</th>\n      <td>4.0</td>\n      <td>118.0</td>\n      <td>70.0</td>\n      <td>0.0</td>\n      <td>0.0</td>\n      <td>44.5</td>\n      <td>0.904</td>\n      <td>26.0</td>\n      <td>0.0</td>\n    </tr>\n    <tr>\n      <th>252</th>\n      <td>7.0</td>\n      <td>152.0</td>\n      <td>88.0</td>\n      <td>44.0</td>\n      <td>0.0</td>\n      <td>50.0</td>\n      <td>0.337</td>\n      <td>36.0</td>\n      <td>0.0</td>\n    </tr>\n    <tr>\n      <th>253</th>\n      <td>7.0</td>\n      <td>168.0</td>\n      <td>88.0</td>\n      <td>42.0</td>\n      <td>321.0</td>\n      <td>38.2</td>\n      <td>0.787</td>\n      <td>40.0</td>\n      <td>1.0</td>\n    </tr>\n  </tbody>\n</table>\n<p>254 rows × 9 columns</p>\n</div>"
            ]
          },
          "metadata": {},
          "execution_count": 3,
          "output_type": "execute_result"
        }
      ]
    }
  ],
  "metadata": {},
  "nbformat": 4,
  "nbformat_minor": 2
}