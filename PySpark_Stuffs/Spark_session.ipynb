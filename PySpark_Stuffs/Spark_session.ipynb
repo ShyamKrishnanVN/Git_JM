
{
  "cells": [
    {
      "cell_type": "code",
      "metadata": {
        "id": "70320194_0.28976259354559053"
      },
      "execution_count": 0,
      "source": [
        "from pyspark.sql import SparkSession\n\n# Check if SparkSession is active\ndef is_spark_session_active():\n    try:\n        # Access the existing SparkSession\n        spark = SparkSession.builder.getOrCreate()\n        return True\n    except Exception as e:\n        return False\n\n# Check if SparkSession is active\nif is_spark_session_active():\n    print(\"SparkSession is active.\")\nelse:\n    print(\"SparkSession is not active.\")"
      ],
      "outputs": [
        {
          "name": "stdout",
          "text": [
            "SparkSession is active.\n"
          ],
          "output_type": "stream"
        }
      ]
    },
    {
      "cell_type": "code",
      "metadata": {
        "id": "70320194_0.9151799919962171"
      },
      "execution_count": 1,
      "source": [
        ""
      ],
      "outputs": []
    }
  ],
  "metadata": {},
  "nbformat": 4,
  "nbformat_minor": 2
}
