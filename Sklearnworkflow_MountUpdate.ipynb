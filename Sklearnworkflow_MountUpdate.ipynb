{
 "cells": [
  {
   "cell_type": "markdown",
   "execution_count": null,
   "metadata": {
    "id": "37192026_0.12687975286578768"
   },
   "outputs": [],
   "source": [
    "# Model fitting & training"
   ]
  },
  {
   "cell_type": "markdown",
   "metadata": {},
   "source": [
    "`<<<<<<< HEAD`"
   ]
  },
  {
   "cell_type": "code",
   "execution_count": 0,
   "metadata": {
    "id": "37192026_0.3152486210821259"
   },
   "outputs": [],
   "source": [
    "#sklearn train model new_V888\n",
    "import pandas as pd\n",
    "from sklearn import model_selection\n",
    "from sklearn.linear_model import LogisticRegression\n",
    "from sklearn.naive_bayes import GaussianNB\n",
    "from sklearn.naive_bayes import MultinomialNB\n",
    "import pickle as pkle\n",
    "url = \"https://raw.githubusercontent.com/jbrownlee/Datasets/master/pima-indians-diabetes.data.csv\"\n",
    "names = ['preg', 'plas', 'pres', 'skin', 'test', 'mass', 'pedi', 'age', 'class']\n",
    "dataframe = pd.read_csv(url, names=names)\n",
    "array = dataframe.values\n",
    "X = array[:,0:19]\n",
    "Y = array[:,8]\n",
    "test_size = 0.33\n",
    "seed = 136\n",
    "X_train, X_test, Y_train, Y_test = model_selection.train_test_split(X, Y, test_size=test_size, random_state=seed)\n",
    "model = MultinomialNB()\n",
    "model.fit(X_train, Y_train);"
   ]
  },
  {
   "cell_type": "markdown",
   "metadata": {},
   "source": [
    "`=======`"
   ]
  },
  {
   "cell_type": "code",
   "execution_count": 0,
   "metadata": {
    "id": "37192026_0.3152486210821259"
   },
   "outputs": [],
   "source": [
    "#sklearn train model new_V888\n",
    "import pandas as pds\n",
    "from sklearn import model_selection\n",
    "from sklearn.linear_model import LogisticRegression\n",
    "from sklearn.naive_bayes import GaussianNB\n",
    "from sklearn.naive_bayes import MultinomialNB\n",
    "import pickle as pkle\n",
    "url = \"https://raw.githubusercontent.com/jbrownlee/Datasets/master/pima-indians-diabetes.data.csv\"\n",
    "names = ['preg', 'plas', 'pres', 'skin', 'test', 'mass', 'pedi', 'age', 'class']\n",
    "dataframe = pd.read_csv(url, names=names)\n",
    "array = dataframe.values\n",
    "X = array[:,0:19]\n",
    "Y = array[:,8]\n",
    "test_size = 0.33\n",
    "seed = 136\n",
    "X_train, X_test, Y_train, Y_test = model_selection.train_test_split(X, Y, test_size=test_size, random_state=seed)\n",
    "model = MultinomialNB()\n",
    "model.fit(X_train, Y_train);"
   ]
  },
  {
   "cell_type": "markdown",
   "metadata": {},
   "source": [
    "`>>>>>>> 938e478492a6702ad1d4ef2266e53f61e7326334`"
   ]
  },
  {
   "cell_type": "markdown",
   "execution_count": null,
   "metadata": {
    "id": "37192026_0.2436417707074685"
   },
   "outputs": [],
   "source": [
    "# Model Save"
   ]
  },
  {
   "cell_type": "code",
   "execution_count": null,
   "metadata": {
    "id": "37192026_0.625926114080203"
   },
   "outputs": [],
   "source": [
    "from Notebook.DSNotebook.NotebookExecutor import NotebookExecutor\n",
    "nb = NotebookExecutor()\n",
    "saved_model = nb.save_model(model = model, modelName = 'Model_newTenant_Explainer', modelType = 'ml', X = X_train, y = Y_train, estimator_type='classification')\n",
    "#X and y are training datasets to get explainer dashboard.\n",
    "#estimator_type is to specify algorithm type i.e., classification and regression.\n",
    "#Only 'ml’ models with tabular data as input will support in Explainer Dashboard.\n",
    "#Choose modelType = 'ml' for machine learning models, modelType = 'cv' for computer vision models and modelType = 'dp' for data transformation pickle files. \n",
    "#Provide ‘column_headers’ as a parameter if they have to be saved in the model.\n",
    "#If using custom layer in keras, use native save functionality from keras."
   ]
  },
  {
   "cell_type": "markdown",
   "execution_count": null,
   "metadata": {
    "id": "37192026_0.40842723423907"
   },
   "outputs": [],
   "source": [
    "# Model Load"
   ]
  },
  {
   "cell_type": "code",
   "execution_count": null,
   "metadata": {
    "id": "37192026_0.6230291537006891"
   },
   "outputs": [],
   "source": [
    "from Notebook.DSNotebook.NotebookExecutor import NotebookExecutor\n",
    "nb = NotebookExecutor()\n",
    "loaded_model = nb.load_saved_model('95211690968020598')"
   ]
  },
  {
   "cell_type": "code",
   "execution_count": null,
   "metadata": {
    "id": "37192026_0.829296843957869"
   },
   "outputs": [],
   "source": [
    "X_test_copy = X_test.copy()"
   ]
  },
  {
   "cell_type": "markdown",
   "execution_count": null,
   "metadata": {
    "id": "37192026_0.5769361073619943"
   },
   "outputs": [],
   "source": [
    "# Model Predict"
   ]
  },
  {
   "cell_type": "code",
   "execution_count": null,
   "metadata": {
    "id": "37192026_0.6272826080301988"
   },
   "outputs": [],
   "source": [
    "nb.predict(model = loaded_model, dataframe = X_test_copy, modeltype='ml') \n",
    " #Choose modeltype 'ml' for machine learning models and 'cv' for computer vision model \n",
    " #ex: For machine learning model nb.predict(model = model, modeltype = 'ml', dataframe = df) \n",
    " #ex: For computer vision keras model nb.predict(model = model, modeltype = 'cv', imgs = imgs, imgsize = (28, 28), dim = 1, class_names = class_names) \n",
    " #and for pytorch model(model = model, modeltype = 'cv', imgs = imgs, class_names = class_names) \n",
    " #Note: incase any error in prediction user squeezed image data in keras"
   ]
  },
  {
   "cell_type": "code",
   "execution_count": null,
   "metadata": {
    "id": "37192026_0.6308230843169786"
   },
   "outputs": [],
   "source": [
    "X_test_copy = X_test.copy()"
   ]
  },
  {
   "cell_type": "code",
   "execution_count": null,
   "metadata": {
    "id": "37192026_0.6809100730899289"
   },
   "outputs": [],
   "source": [
    "Y_pred = nb.predict(model = loaded_model, dataframe = X_test_copy, modeltype='ml') "
   ]
  },
  {
   "cell_type": "code",
   "execution_count": null,
   "metadata": {
    "id": "37192026_0.05876004703055848"
   },
   "outputs": [],
   "source": [
    "Y_pred.head()"
   ]
  },
  {
   "cell_type": "code",
   "execution_count": null,
   "metadata": {
    "id": "37192026_0.3567810030933032"
   },
   "outputs": [],
   "source": [
    "from sklearn.metrics import accuracy_score\n",
    "accuracy_score(Y_test, Y_pred.predictions)"
   ]
  },
  {
   "cell_type": "markdown",
   "execution_count": null,
   "metadata": {
    "id": "37192026_0.0614591072753361"
   },
   "outputs": [],
   "source": [
    "# Sandbox file read"
   ]
  },
  {
   "cell_type": "code",
   "execution_count": null,
   "metadata": {
    "id": "37192026_0.1147272929972134"
   },
   "outputs": [],
   "source": [
    "from Notebook.DSNotebook.NotebookExecutor import NotebookExecutor\n",
    "nb = NotebookExecutor()\n",
    "df_Test_Data = nb.get_data('95211690968328879', '@SYS.USERID', 'True', {}, [])\n",
    "df_Test_Data.head()"
   ]
  },
  {
   "cell_type": "markdown",
   "execution_count": null,
   "metadata": {
    "id": "37192026_0.7012927091617347"
   },
   "outputs": [],
   "source": [
    "# Artifacts file save"
   ]
  },
  {
   "cell_type": "code",
   "execution_count": null,
   "metadata": {
    "id": "37192026_0.7139486186718971"
   },
   "outputs": [],
   "source": [
    "from Notebook.DSNotebook.NotebookExecutor import NotebookExecutor\n",
    "nb = NotebookExecutor()\n",
    "#File extension should be with .csv/.json/.txt\n",
    "nb.save_artifact(dataframe = df_Test_Data, name = 'df_Test_Data.txt')"
   ]
  },
  {
   "cell_type": "markdown",
   "execution_count": null,
   "metadata": {
    "id": "37192026_0.00807822091853394"
   },
   "outputs": [],
   "source": [
    "# Artifacts saved file read"
   ]
  },
  {
   "cell_type": "code",
   "execution_count": null,
   "metadata": {
    "id": "37192026_0.07617409868591873"
   },
   "outputs": [],
   "source": [
    "@SYS.ARTIFACT_PATH+'df_Test_Data.txt'"
   ]
  },
  {
   "cell_type": "code",
   "execution_count": null,
   "metadata": {
    "id": "37192026_0.49944632420909807"
   },
   "outputs": [],
   "source": [
    "print(open(@SYS.ARTIFACT_PATH+'df_Test_Data.txt').read())"
   ]
  },
  {
   "cell_type": "markdown",
   "execution_count": null,
   "metadata": {
    "id": "37192026_0.9671903381866724"
   },
   "outputs": [],
   "source": [
    "# Reading uploaded file in forder structure"
   ]
  },
  {
   "cell_type": "code",
   "execution_count": null,
   "metadata": {
    "id": "37192026_0.9930898502809178"
   },
   "outputs": [],
   "source": [
    "@SYS.DATASANDBOX_PATH + '76578817/Data/Folder_V1/churn_data_new.csv'"
   ]
  },
  {
   "cell_type": "code",
   "execution_count": null,
   "metadata": {
    "id": "37192026_0.7895462232361061"
   },
   "outputs": [],
   "source": [
    "pd.read_csv(@SYS.DATASANDBOX_PATH + '76578817/Data/Folder_V1/churn_data_new.csv')"
   ]
  },
  {
   "cell_type": "markdown",
   "execution_count": null,
   "metadata": {
    "id": "37192026_0.07948173605178277"
   },
   "outputs": [],
   "source": [
    "# Utility file read"
   ]
  },
  {
   "cell_type": "code",
   "execution_count": null,
   "metadata": {
    "id": "37192026_0.9669598535649064"
   },
   "outputs": [],
   "source": [
    "from Utiity_script import Person\n",
    "Future = Person(\"Shyam\", \"29\")\n",
    "print(Future.name)\n",
    "print(Future.age)"
   ]
  },
  {
   "cell_type": "markdown",
   "execution_count": null,
   "metadata": {
    "id": "37192026_0.7920251083853427"
   },
   "outputs": [],
   "source": [
    "# Data Transformation save"
   ]
  },
  {
   "cell_type": "code",
   "execution_count": null,
   "metadata": {
    "id": "37192026_0.5338133228640769"
   },
   "outputs": [],
   "source": [
    "from sklearn.datasets import make_blobs\n",
    "from sklearn.model_selection import train_test_split\n",
    "from sklearn.preprocessing import MinMaxScaler\n",
    "from sklearn.linear_model import LogisticRegression\n",
    "from pickle import dump\n",
    "# prepare dataset\n",
    "X, y = make_blobs(n_samples=100, centers=2, n_features=2, random_state=1)\n",
    "# split data into train and test sets\n",
    "X_train, _, y_train, _ = train_test_split(X, y, test_size=0.33, random_state=1)\n",
    "# define scaler\n",
    "scaler = MinMaxScaler()\n",
    "# fit scaler on the training dataset\n",
    "scaler.fit(X_train);\n",
    "# transform the training dataset\n",
    "X_train_scaled = scaler.transform(X_train)\n",
    "from Notebook.DSNotebook.NotebookExecutor import NotebookExecutor\n",
    "nb = NotebookExecutor()\n",
    "saved_model = nb.save_model(model = scaler, modelName = 'ScalerTransform', modelType = 'dp', X = None, y = None, estimator_type='')\n",
    "#X and y are training datasets to get explainer dashboard.\n",
    "#estimator_type is to specify algorithm type i.e., classification and regression.\n",
    "#Only 'ml’ models with tabular data as input will support in Explainer Dashboard.\n",
    "#Choose modelType = 'ml' for machine learning models, modelType = 'cv' for computer vision models and modelType = 'dp' for data transformation pickle files. \n",
    "#Provide ‘column_headers’ as a parameter if they have to be saved in the model.\n",
    "#If using custom layer in keras, use native save functionality from keras."
   ]
  },
  {
   "cell_type": "markdown",
   "execution_count": null,
   "metadata": {
    "id": "37192026_0.5683094053989459"
   },
   "outputs": [],
   "source": [
    "# Transformation load"
   ]
  },
  {
   "cell_type": "code",
   "execution_count": null,
   "metadata": {
    "id": "37192026_0.22899188253448877"
   },
   "outputs": [],
   "source": [
    "from Notebook.DSNotebook.NotebookExecutor import NotebookExecutor\n",
    "nb = NotebookExecutor()\n",
    "loaded_model = nb.load_model('95211690970180614')"
   ]
  },
  {
   "cell_type": "markdown",
   "execution_count": null,
   "metadata": {
    "id": "37192026_0.8463063776804558"
   },
   "outputs": [],
   "source": [
    "# Transforming traing data"
   ]
  },
  {
   "cell_type": "code",
   "execution_count": null,
   "metadata": {
    "id": "37192026_0.7394323793482669"
   },
   "outputs": [],
   "source": [
    "loaded_model.transform(X_train)"
   ]
  }
 ],
 "metadata": {},
 "nbformat": 4,
 "nbformat_minor": 2
}
