{
  "cells": [
    {
      "cell_type": "code",
      "metadata": {
        "id": "17170439_0.9250464270627261"
      },
      "execution_count": 1,
      "source": [
        "import pandas\nfrom keras.models import Sequential\nfrom keras.layers import Dense"
      ],
      "outputs": []
    },
    {
      "cell_type": "code",
      "metadata": {
        "id": "17170439_0.5680487140333093"
      },
      "execution_count": 2,
      "source": [
        "url = \"https://raw.githubusercontent.com/jbrownlee/Datasets/master/pima-indians-diabetes.data.csv\"\nnames = ['preg', 'plas', 'pres', 'skin', 'test', 'mass', 'pedi', 'age', 'class']\ndataframe = pandas.read_csv(url, names=names)\narray = dataframe.values\nX = array[:,0:8]\ny = array[:,8]"
      ],
      "outputs": []
    },
    {
      "cell_type": "code",
      "metadata": {
        "id": "17170439_0.9020647533652488"
      },
      "execution_count": 3,
      "source": [
        "# define the keras model\nmodel = Sequential()\nmodel.add(Dense(12, input_dim=8, activation='relu'))\nmodel.add(Dense(8, activation='relu'))\nmodel.add(Dense(1, activation='sigmoid'))"
      ],
      "outputs": []
    },
    {
      "cell_type": "code",
      "metadata": {
        "id": "17170439_0.009918267395163438"
      },
      "execution_count": 4,
      "source": [
        "# compile the keras model\nmodel.compile(loss='binary_crossentropy', optimizer='adam', metrics=['accuracy'])\n# fit the keras model on the dataset\nmodel.fit(X, y, epochs=20, batch_size=10);"
      ],
      "outputs": [
        {
          "name": "stdout",
          "text": "Epoch 1/20\n77/77 [==============================] - 1s 4ms/step - loss: 2.8498 - accuracy: 0.5260\nEpoch 2/20\n77/77 [==============================] - 0s 4ms/step - loss: 1.1467 - accuracy: 0.5938\nEpoch 3/20\n77/77 [==============================] - 0s 3ms/step - loss: 1.0523 - accuracy: 0.5938\nEpoch 4/20\n77/77 [==============================] - 0s 4ms/step - loss: 0.8739 - accuracy: 0.6055\nEpoch 5/20\n77/77 [==============================] - 0s 4ms/step - loss: 0.7845 - accuracy: 0.6276\nEpoch 6/20\n77/77 [==============================] - 0s 3ms/step - loss: 0.7384 - accuracy: 0.6159\nEpoch 7/20\n77/77 [==============================] - 0s 3ms/step - loss: 0.7138 - accuracy: 0.6393\nEpoch 8/20\n77/77 [==============================] - 0s 4ms/step - loss: 0.6828 - accuracy: 0.6445\nEpoch 9/20\n77/77 [==============================] - 0s 4ms/step - loss: 0.6627 - accuracy: 0.6641\nEpoch 10/20\n77/77 [==============================] - 0s 4ms/step - loss: 0.6502 - accuracy: 0.6706\nEpoch 11/20\n77/77 [==============================] - 0s 4ms/step - loss: 0.6466 - accuracy: 0.6706\nEpoch 12/20\n77/77 [==============================] - 0s 4ms/step - loss: 0.6284 - accuracy: 0.6784\nEpoch 13/20\n77/77 [==============================] - 0s 4ms/step - loss: 0.6271 - accuracy: 0.6667\nEpoch 14/20\n77/77 [==============================] - 0s 4ms/step - loss: 0.6133 - accuracy: 0.6875\nEpoch 15/20\n77/77 [==============================] - 0s 3ms/step - loss: 0.6211 - accuracy: 0.6758\nEpoch 16/20\n77/77 [==============================] - 0s 4ms/step - loss: 0.6292 - accuracy: 0.6576\nEpoch 17/20\n77/77 [==============================] - 0s 3ms/step - loss: 0.6148 - accuracy: 0.6745\nEpoch 18/20\n77/77 [==============================] - 0s 4ms/step - loss: 0.6028 - accuracy: 0.6823\nEpoch 19/20\n77/77 [==============================] - 0s 4ms/step - loss: 0.6305 - accuracy: 0.6758\nEpoch 20/20\n77/77 [==============================] - 0s 3ms/step - loss: 0.6018 - accuracy: 0.6966\n",
          "output_type": "stream"
        },
        {
          "data": {
            "text/plain": "<keras.callbacks.History at 0x7f26a45b1ed0>"
          },
          "metadata": {},
          "execution_count": 5,
          "output_type": "execute_result"
        }
      ]
    },
    {
      "cell_type": "code",
      "metadata": {
        "id": "17170439_0.8007571886294735"
      },
      "execution_count": 5,
      "source": [
        "# evaluate the keras model\n_, accuracy = model.evaluate(X, y)\nprint('Accuracy: %.2f' % (accuracy*100))"
      ],
      "outputs": [
        {
          "name": "stdout",
          "text": "24/24 [==============================] - 0s 2ms/step - loss: 0.5781 - accuracy: 0.7031\nAccuracy: 70.31\n",
          "output_type": "stream"
        }
      ]
    },
    {
      "cell_type": "code",
      "metadata": {
        "id": "17170439_0.6271808664221752"
      },
      "execution_count": 6,
      "source": [
        "from Notebook.DSNotebook.NotebookExecutor import NotebookExecutor\nnb = NotebookExecutor()\nsaved_model = nb.save_model(model = model, modelName = 'Keras_With_bantoML', modelType = 'ml', X = None, y = None, estimator_type='')\n#X and y are training datasets to get explainer dashboard.\n#estimator_type is to specify algorithm type i.e., classification and regression.\n#Only 'ml’ models with tabular data as input will support in Explainer Dashboard.\n#Choose modelType = 'ml' for machine learning models, modelType = 'cv' for computer vision models and modelType = 'dp' for data transformation pickle files. \n#Provide ‘column_headers’ as a parameter if they have to be saved in the model.\n#If using custom layer in keras, use native save functionality from keras."
      ],
      "outputs": [
        {
          "name": "stdout",
          "text": [
            "WARN: Training data is not provided. Unable to generate Explainer Dashboard\n"
          ],
          "output_type": "stream"
        }
      ]
    },
    {
      "cell_type": "code",
      "metadata": {
        "id": "17170439_0.06524294464080338"
      },
      "execution_count": 7,
      "source": [
        "from Notebook.DSNotebook.NotebookExecutor import NotebookExecutor\nnb = NotebookExecutor()\nloaded_model = nb.load_saved_model('11111682578015206')"
      ],
      "outputs": []
    },
    {
      "cell_type": "code",
      "metadata": {
        "id": "17170439_0.8481494677783197"
      },
      "execution_count": 8,
      "source": [
        "predictions = nb.predict(model = loaded_model, dataframe = X, modeltype='ml') \n #Choose modeltype 'ml' for machine learning models and 'cv' for computer vision model \n #ex: For machine learning model nb.predict(model = model, modeltype = 'ml', dataframe = df) \n #ex: For computer vision keras model nb.predict(model = model, modeltype = 'cv', imgs = imgs, imgsize = (28, 28), dim = 1, class_names = class_names) \n #and for pytorch model(model = model, modeltype = 'cv', imgs = imgs, class_names = class_names) \n #Note: incase any error in prediction user squeezed image data in keras"
      ],
      "outputs": []
    },
    {
      "cell_type": "code",
      "metadata": {
        "id": "17170439_0.2954079518316335"
      },
      "execution_count": 9,
      "source": [
        "predictions"
      ],
      "outputs": [
        {
          "data": {
            "text/plain": [
              "        0      1     2     3      4     5      6     7   predictions\n0     6.0  148.0  72.0  35.0    0.0  33.6  0.627  50.0   [0.5799828]\n1     1.0   85.0  66.0  29.0    0.0  26.6  0.351  31.0  [0.21099177]\n2     8.0  183.0  64.0   0.0    0.0  23.3  0.672  32.0  [0.59222823]\n3     1.0   89.0  66.0  23.0   94.0  28.1  0.167  21.0  [0.15507427]\n4     0.0  137.0  40.0  35.0  168.0  43.1  2.288  33.0   [0.8849932]\n..    ...    ...   ...   ...    ...   ...    ...   ...           ...\n763  10.0  101.0  76.0  48.0  180.0  32.9  0.171  63.0  [0.62572503]\n764   2.0  122.0  70.0  27.0    0.0  36.8  0.340  27.0  [0.36854607]\n765   5.0  121.0  72.0  23.0  112.0  26.2  0.245  30.0  [0.20364079]\n766   1.0  126.0  60.0   0.0    0.0  30.1  0.349  47.0   [0.5502433]\n767   1.0   93.0  70.0  31.0    0.0  30.4  0.315  23.0  [0.20092988]\n\n[768 rows x 9 columns]"
            ],
            "text/html": [
              "<div>\n<style scoped>\n    .dataframe tbody tr th:only-of-type {\n        vertical-align: middle;\n    }\n\n    .dataframe tbody tr th {\n        vertical-align: top;\n    }\n\n    .dataframe thead th {\n        text-align: right;\n    }\n</style>\n<table border=\"1\" class=\"dataframe\">\n  <thead>\n    <tr style=\"text-align: right;\">\n      <th></th>\n      <th>0</th>\n      <th>1</th>\n      <th>2</th>\n      <th>3</th>\n      <th>4</th>\n      <th>5</th>\n      <th>6</th>\n      <th>7</th>\n      <th>predictions</th>\n    </tr>\n  </thead>\n  <tbody>\n    <tr>\n      <th>0</th>\n      <td>6.0</td>\n      <td>148.0</td>\n      <td>72.0</td>\n      <td>35.0</td>\n      <td>0.0</td>\n      <td>33.6</td>\n      <td>0.627</td>\n      <td>50.0</td>\n      <td>[0.5799828]</td>\n    </tr>\n    <tr>\n      <th>1</th>\n      <td>1.0</td>\n      <td>85.0</td>\n      <td>66.0</td>\n      <td>29.0</td>\n      <td>0.0</td>\n      <td>26.6</td>\n      <td>0.351</td>\n      <td>31.0</td>\n      <td>[0.21099177]</td>\n    </tr>\n    <tr>\n      <th>2</th>\n      <td>8.0</td>\n      <td>183.0</td>\n      <td>64.0</td>\n      <td>0.0</td>\n      <td>0.0</td>\n      <td>23.3</td>\n      <td>0.672</td>\n      <td>32.0</td>\n      <td>[0.59222823]</td>\n    </tr>\n    <tr>\n      <th>3</th>\n      <td>1.0</td>\n      <td>89.0</td>\n      <td>66.0</td>\n      <td>23.0</td>\n      <td>94.0</td>\n      <td>28.1</td>\n      <td>0.167</td>\n      <td>21.0</td>\n      <td>[0.15507427]</td>\n    </tr>\n    <tr>\n      <th>4</th>\n      <td>0.0</td>\n      <td>137.0</td>\n      <td>40.0</td>\n      <td>35.0</td>\n      <td>168.0</td>\n      <td>43.1</td>\n      <td>2.288</td>\n      <td>33.0</td>\n      <td>[0.8849932]</td>\n    </tr>\n    <tr>\n      <th>...</th>\n      <td>...</td>\n      <td>...</td>\n      <td>...</td>\n      <td>...</td>\n      <td>...</td>\n      <td>...</td>\n      <td>...</td>\n      <td>...</td>\n      <td>...</td>\n    </tr>\n    <tr>\n      <th>763</th>\n      <td>10.0</td>\n      <td>101.0</td>\n      <td>76.0</td>\n      <td>48.0</td>\n      <td>180.0</td>\n      <td>32.9</td>\n      <td>0.171</td>\n      <td>63.0</td>\n      <td>[0.62572503]</td>\n    </tr>\n    <tr>\n      <th>764</th>\n      <td>2.0</td>\n      <td>122.0</td>\n      <td>70.0</td>\n      <td>27.0</td>\n      <td>0.0</td>\n      <td>36.8</td>\n      <td>0.340</td>\n      <td>27.0</td>\n      <td>[0.36854607]</td>\n    </tr>\n    <tr>\n      <th>765</th>\n      <td>5.0</td>\n      <td>121.0</td>\n      <td>72.0</td>\n      <td>23.0</td>\n      <td>112.0</td>\n      <td>26.2</td>\n      <td>0.245</td>\n      <td>30.0</td>\n      <td>[0.20364079]</td>\n    </tr>\n    <tr>\n      <th>766</th>\n      <td>1.0</td>\n      <td>126.0</td>\n      <td>60.0</td>\n      <td>0.0</td>\n      <td>0.0</td>\n      <td>30.1</td>\n      <td>0.349</td>\n      <td>47.0</td>\n      <td>[0.5502433]</td>\n    </tr>\n    <tr>\n      <th>767</th>\n      <td>1.0</td>\n      <td>93.0</td>\n      <td>70.0</td>\n      <td>31.0</td>\n      <td>0.0</td>\n      <td>30.4</td>\n      <td>0.315</td>\n      <td>23.0</td>\n      <td>[0.20092988]</td>\n    </tr>\n  </tbody>\n</table>\n<p>768 rows × 9 columns</p>\n</div>"
            ]
          },
          "metadata": {},
          "execution_count": 10,
          "output_type": "execute_result"
        }
      ]
    },
    {
      "cell_type": "code",
      "metadata": {
        "id": "17170439_0.5849164756997891"
      },
      "execution_count": null,
      "source": [
        "predictions = (predictions > 0.5).astype(int)"
      ],
      "outputs": []
    },
    {
      "cell_type": "code",
      "metadata": {
        "id": "17170439_0.7782815811803234"
      },
      "execution_count": null,
      "source": [
        "predictions"
      ],
      "outputs": []
    }
  ],
  "metadata": {},
  "nbformat": 4,
  "nbformat_minor": 2
}
