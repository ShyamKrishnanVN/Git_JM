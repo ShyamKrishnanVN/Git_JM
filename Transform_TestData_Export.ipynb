{
  "cells": [
    {
      "cell_type": "code",
      "metadata": {
        "id": "821461003_0.4167357510779417"
      },
      "execution_count": null,
      "source": [
        "from sklearn.datasets import make_blobs\nfrom sklearn.model_selection import train_test_split\n# prepare dataset\nX, y = make_blobs(n_samples=100, centers=2, n_features=2, random_state=1)\n# split data into train and test sets\nX_train, _, y_train, _ = train_test_split(X, y, test_size=0.33, random_state=1)\n# define scaler"
      ],
      "outputs": []
    },
    {
      "cell_type": "code",
      "metadata": {
        "id": "821461003_0.14869966966033865"
      },
      "execution_count": 2,
      "source": [
        "def Transform_Export():\n\tfrom sklearn.datasets import make_blobs\n\timport pandas\n\tfrom sklearn.model_selection import train_test_split\n\t# prepare dataset\n\tX, y = make_blobs(n_samples=100, centers=2, n_features=2, random_state=1)\n\t# split data into train and test sets\n\tX_train, _, y_train, _ = train_test_split(X, y, test_size=0.33, random_state=1)\n\t# define scaler\n\tX_train = pandas.DataFrame(X_train)\n\treturn X_train"
      ],
      "outputs": []
    },
    {
      "cell_type": "code",
      "metadata": {
        "id": "821461003_0.5902415344683629"
      },
      "execution_count": 7,
      "source": [
        "testData = Transform_Export()\ntestData"
      ],
      "outputs": [
        {
          "data": {
            "text/plain": [
              "            0         1\n0   -8.958888 -1.766369\n1   -1.965764  5.234465\n2   -9.717047 -4.026461\n3   -2.776870  4.640906\n4   -1.146630  4.108397\n..        ...       ...\n62  -1.343925  2.384289\n63  -1.171042  4.330918\n64  -9.395393 -3.533066\n65 -10.108160 -4.570711\n66 -11.370830 -3.638189\n\n[67 rows x 2 columns]"
            ],
            "text/html": [
              "<div>\n<style scoped>\n    .dataframe tbody tr th:only-of-type {\n        vertical-align: middle;\n    }\n\n    .dataframe tbody tr th {\n        vertical-align: top;\n    }\n\n    .dataframe thead th {\n        text-align: right;\n    }\n</style>\n<table border=\"1\" class=\"dataframe\">\n  <thead>\n    <tr style=\"text-align: right;\">\n      <th></th>\n      <th>0</th>\n      <th>1</th>\n    </tr>\n  </thead>\n  <tbody>\n    <tr>\n      <th>0</th>\n      <td>-8.958888</td>\n      <td>-1.766369</td>\n    </tr>\n    <tr>\n      <th>1</th>\n      <td>-1.965764</td>\n      <td>5.234465</td>\n    </tr>\n    <tr>\n      <th>2</th>\n      <td>-9.717047</td>\n      <td>-4.026461</td>\n    </tr>\n    <tr>\n      <th>3</th>\n      <td>-2.776870</td>\n      <td>4.640906</td>\n    </tr>\n    <tr>\n      <th>4</th>\n      <td>-1.146630</td>\n      <td>4.108397</td>\n    </tr>\n    <tr>\n      <th>...</th>\n      <td>...</td>\n      <td>...</td>\n    </tr>\n    <tr>\n      <th>62</th>\n      <td>-1.343925</td>\n      <td>2.384289</td>\n    </tr>\n    <tr>\n      <th>63</th>\n      <td>-1.171042</td>\n      <td>4.330918</td>\n    </tr>\n    <tr>\n      <th>64</th>\n      <td>-9.395393</td>\n      <td>-3.533066</td>\n    </tr>\n    <tr>\n      <th>65</th>\n      <td>-10.108160</td>\n      <td>-4.570711</td>\n    </tr>\n    <tr>\n      <th>66</th>\n      <td>-11.370830</td>\n      <td>-3.638189</td>\n    </tr>\n  </tbody>\n</table>\n<p>67 rows × 2 columns</p>\n</div>"
            ]
          },
          "metadata": {},
          "execution_count": 8,
          "output_type": "execute_result"
        }
      ]
    },
    {
      "cell_type": "code",
      "metadata": {
        "id": "821461003_0.43210315660392884"
      },
      "execution_count": 4,
      "source": [
        "from Notebook.DSNotebook.NotebookExecutor import NotebookExecutor\nnb = NotebookExecutor()\nloaded_model = nb.load_model(modelId = '826146816')"
      ],
      "outputs": []
    },
    {
      "cell_type": "code",
      "metadata": {
        "id": "821461003_0.9040555624944091"
      },
      "execution_count": 8,
      "source": [
        "loaded_model.transform(testData)"
      ],
      "outputs": [
        {
          "data": {
            "text/plain": "array([[0.23395852, 0.35842125],\n       [0.79875321, 0.90133484],\n       [0.1727263 , 0.18315143],\n       [0.73324478, 0.85530443],\n       [0.86490997, 0.81400847],\n       [0.84925052, 0.81778689],\n       [0.28151464, 0.21503406],\n       [0.83890271, 1.        ],\n       [0.11768194, 0.25272282],\n       [0.15358548, 0.17127067],\n       [0.22971925, 0.20538083],\n       [0.30388699, 0.27498359],\n       [0.17837018, 0.08705392],\n       [0.19282048, 0.19950001],\n       [0.82758701, 0.78772661],\n       [0.18570507, 0.18105428],\n       [0.21555452, 0.26981763],\n       [0.05071381, 0.23151541],\n       [0.19005398, 0.1752731 ],\n       [0.79317393, 0.78759208],\n       [0.35425701, 0.16953972],\n       [0.82689292, 0.88232276],\n       [0.81355841, 0.76455675],\n       [0.12855764, 0.19135056],\n       [0.89624055, 0.78410253],\n       [0.84206699, 0.89621938],\n       [0.9575363 , 0.89467094],\n       [0.80184776, 0.87825451],\n       [0.76255514, 0.93428527],\n       [0.1826463 , 0.23485323],\n       [0.79744376, 0.80734217],\n       [1.        , 0.72882744],\n       [0.76927084, 0.83614339],\n       [0.73459283, 0.92589868],\n       [0.83855105, 0.86892497],\n       [0.89337759, 0.65864154],\n       [0.24377251, 0.21747541],\n       [0.25293258, 0.34136975],\n       [0.17015267, 0.16581683],\n       [0.09781082, 0.25873148],\n       [0.14807041, 0.12870764],\n       [0.21408907, 0.14046659],\n       [0.15146464, 0.10180892],\n       [0.76313985, 0.96837513],\n       [0.80955751, 0.76904774],\n       [0.91505164, 0.75182912],\n       [0.32698889, 0.0417588 ],\n       [0.19210256, 0.1000778 ],\n       [0.94156966, 0.67736192],\n       [0.83332236, 0.92471684],\n       [0.79571246, 0.84050646],\n       [0.19550959, 0.20749043],\n       [0.80552738, 0.82155677],\n       [0.12501222, 0.        ],\n       [0.20498394, 0.16402074],\n       [0.2098691 , 0.11486197],\n       [0.22023356, 0.24701562],\n       [0.21839815, 0.12216597],\n       [0.16883584, 0.24175307],\n       [0.        , 0.28468564],\n       [0.78737153, 0.93208592],\n       [0.21482032, 0.19243259],\n       [0.84897559, 0.68030412],\n       [0.86293838, 0.83126495],\n       [0.19870447, 0.22141413],\n       [0.14113841, 0.14094497],\n       [0.03915974, 0.21326187]])"
          },
          "metadata": {},
          "execution_count": 9,
          "output_type": "execute_result"
        }
      ]
    }
  ],
  "metadata": {},
  "nbformat": 4,
  "nbformat_minor": 2
}