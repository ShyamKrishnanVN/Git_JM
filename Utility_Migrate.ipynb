{
  "cells": [
    {
      "cell_type": "code",
      "metadata": {
        "id": "586121222_0.34679726314289017"
      },
      "execution_count": 1,
      "source": [
        "def utility():\n    from Utiity_Edit_V17 import Person\n    Future = Person(\"Frank\", \"34\")\n    print(Future.name)\n    print(Future.age)\n    return Future"
      ],
      "outputs": []
    },
    {
      "cell_type": "code",
      "metadata": {
        "id": "586121222_0.5304976774979278"
      },
      "execution_count": 2,
      "source": [
        "utility()"
      ],
      "outputs": [
        {
          "name": "stdout",
          "text": [
            "Frank\n34\n"
          ],
          "output_type": "stream"
        },
        {
          "data": {
            "text/plain": "<Utiity_Edit_V17.Person at 0x7fe218dfac90>"
          },
          "metadata": {},
          "execution_count": 3,
          "output_type": "execute_result"
        }
      ]
    }
  ],
  "metadata": {},
  "nbformat": 4,
  "nbformat_minor": 2
}