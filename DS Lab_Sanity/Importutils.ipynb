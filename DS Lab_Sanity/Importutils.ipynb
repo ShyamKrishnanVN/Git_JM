{
  "cells": [
    {
      "cell_type": "code",
      "metadata": {
        "id": "26279942_0.9574921956742515"
      },
      "execution_count": 21,
      "source": [
        "from Notebook.DSNotebook.NotebookExecutor import NotebookExecutor\nnb = NotebookExecutor()\ndf_Test = nb.get_data('11561697788370591', '@SYS.USERID', 'True', {}, [], None, sparkSession)\ndf_Test.show()"
      ],
      "outputs": [
        {
          "name": "stdout",
          "text": [
            "+-------------+--------+-----------+-----------+----------+----------+--------+---------+------------+------+\n|department_id|   email|employee_id| first_name| hire_date|    job_id|testnull|last_name|phone_number|salary|\n+-------------+--------+-----------+-----------+----------+----------+--------+---------+------------+------+\n|           90|   SKING|       null|     Steven|13-01-1993|   AD_PRES|    null|     King|515.123.4567| 24000|\n|           90|NKOCHHAR|       null|      Neena|14-01-1993|     AD_VP|    null|  Kochhar|515.123.4568| 17000|\n|           90| LDEHAAN|        102|       Lex |13-01-1993|     AD_VP|    null|  De Haan|515.123.4569| 17000|\n|           60| AHUNOLD|        103|  Alexander|03-01-1990|   IT_PROG|    null|   Hunold|590.423.4567|  9000|\n|           60|  BERNST|        104|      Bruce|21-05-1991|   IT_PROG|    null|    Ernst|590.423.4568|  6000|\n|           60| DAUSTIN|        105|      David|25-06-1997|   IT_PROG|    null|   Austin|590.423.4569|  4800|\n|           60|VPATABAL|        106|      Valli|05-02-1998|   IT_PROG|    null|Pataballa|590.423.4560|  4800|\n|           60|DLORENTZ|        107|      Diana|07-02-1999|   IT_PROG|    null|  Lorentz|590.423.5567|  4200|\n|          100|NGREENBE|        108|      Nancy|17-08-1994|    FI_MGR|    null|Greenberg|515.124.4569| 12000|\n|          100| DFAVIET|        109|     Daniel|16-08-1994|FI_ACCOUNT|    null|   Faviet|515.124.4169|  9000|\n|          100|   JCHEN|        110|       John|28-09-1997|FI_ACCOUNT|    null|     Chen|515.124.4269|  8200|\n|          100|ISCIARRA|        111|     Ismael|30-09-1997|FI_ACCOUNT|    null|  Sciarra|515.124.4369|  7700|\n|          100| JMURMAN|        112|Jose Manuel|07-03-1998|FI_ACCOUNT|    null|    Urman|515.124.4469|  7800|\n|          100|   LPOPP|        113|       Luis|07-12-1999|FI_ACCOUNT|    null|     Popp|515.124.4567|  6900|\n|           30|DRAPHEAL|        114|        Den|07-12-1994|    PU_MAN|    null| Raphaely|515.127.4561| 11000|\n|           30|   AKHOO|        115|  Alexander|18-05-1995|  PU_CLERK|    null|     Khoo|515.127.4562|  3100|\n|           30|  SBAIDA|        116|     Shelli|24-12-1997|  PU_CLERK|    null|    Baida|515.127.4563|  2900|\n|           50| SMARKLE|        128|     Steven|08-03-2000|  ST_CLERK|    null|   Markle|650.124.1434|  2200|\n|           50| LBISSOT|        129|      Laura|20-08-1997|  ST_CLERK|    null|   Bissot|650.124.5234|  3300|\n|           50|MATKINSO|        130|      Mozhe|30-10-1997|  ST_CLERK|    null| Atkinson|650.124.6234|  2800|\n+-------------+--------+-----------+-----------+----------+----------+--------+---------+------------+------+\nonly showing top 20 rows\n\n"
          ],
          "output_type": "stream"
        }
      ]
    },
    {
      "cell_type": "code",
      "metadata": {
        "id": "26279942_0.5945412723604928"
      },
      "execution_count": 22,
      "source": [
        "from Label_Encoder import label_encoder\nimport inspect"
      ],
      "outputs": []
    },
    {
      "cell_type": "code",
      "metadata": {
        "id": "26279942_0.21885378614957918"
      },
      "execution_count": 23,
      "source": [
        "# Use the inspect module to get the source code of the function\nsource_code = inspect.getsource(label_encoder)\nprint(source_code)"
      ],
      "outputs": [
        {
          "name": "stdout",
          "text": [
            "def label_encoder(df, input_col, output_col):\n    indexer = StringIndexer(inputCol=input_col, outputCol=output_col)\n    indexed_df = indexer.fit(df).transform(df)\n    return indexed_df\n\n"
          ],
          "output_type": "stream"
        }
      ]
    },
    {
      "cell_type": "code",
      "metadata": {
        "id": "26279942_0.4146489259400792"
      },
      "execution_count": 24,
      "source": [
        "#Define dataframe\ndf = df_Test\n\n#Use the label encoder function\nencoded_df = label_encoder(df, 'job_id', 'job_id_encoded')\n\n#Show the result\nencoded_df.show()"
      ],
      "outputs": [
        {
          "name": "stdout",
          "text": [
            "+-------------+--------+-----------+-----------+----------+----------+--------+---------+------------+------+--------------+\n|department_id|   email|employee_id| first_name| hire_date|    job_id|testnull|last_name|phone_number|salary|job_id_encoded|\n+-------------+--------+-----------+-----------+----------+----------+--------+---------+------------+------+--------------+\n|           90|   SKING|       null|     Steven|13-01-1993|   AD_PRES|    null|     King|515.123.4567| 24000|          12.0|\n|           90|NKOCHHAR|       null|      Neena|14-01-1993|     AD_VP|    null|  Kochhar|515.123.4568| 17000|           8.0|\n|           90| LDEHAAN|        102|       Lex |13-01-1993|     AD_VP|    null|  De Haan|515.123.4569| 17000|           8.0|\n|           60| AHUNOLD|        103|  Alexander|03-01-1990|   IT_PROG|    null|   Hunold|590.423.4567|  9000|           4.0|\n|           60|  BERNST|        104|      Bruce|21-05-1991|   IT_PROG|    null|    Ernst|590.423.4568|  6000|           4.0|\n|           60| DAUSTIN|        105|      David|25-06-1997|   IT_PROG|    null|   Austin|590.423.4569|  4800|           4.0|\n|           60|VPATABAL|        106|      Valli|05-02-1998|   IT_PROG|    null|Pataballa|590.423.4560|  4800|           4.0|\n|           60|DLORENTZ|        107|      Diana|07-02-1999|   IT_PROG|    null|  Lorentz|590.423.5567|  4200|           4.0|\n|          100|NGREENBE|        108|      Nancy|17-08-1994|    FI_MGR|    null|Greenberg|515.124.4569| 12000|          13.0|\n|          100| DFAVIET|        109|     Daniel|16-08-1994|FI_ACCOUNT|    null|   Faviet|515.124.4169|  9000|           3.0|\n|          100|   JCHEN|        110|       John|28-09-1997|FI_ACCOUNT|    null|     Chen|515.124.4269|  8200|           3.0|\n|          100|ISCIARRA|        111|     Ismael|30-09-1997|FI_ACCOUNT|    null|  Sciarra|515.124.4369|  7700|           3.0|\n|          100| JMURMAN|        112|Jose Manuel|07-03-1998|FI_ACCOUNT|    null|    Urman|515.124.4469|  7800|           3.0|\n|          100|   LPOPP|        113|       Luis|07-12-1999|FI_ACCOUNT|    null|     Popp|515.124.4567|  6900|           3.0|\n|           30|DRAPHEAL|        114|        Den|07-12-1994|    PU_MAN|    null| Raphaely|515.127.4561| 11000|          18.0|\n|           30|   AKHOO|        115|  Alexander|18-05-1995|  PU_CLERK|    null|     Khoo|515.127.4562|  3100|           5.0|\n|           30|  SBAIDA|        116|     Shelli|24-12-1997|  PU_CLERK|    null|    Baida|515.127.4563|  2900|           5.0|\n|           50| SMARKLE|        128|     Steven|08-03-2000|  ST_CLERK|    null|   Markle|650.124.1434|  2200|           2.0|\n|           50| LBISSOT|        129|      Laura|20-08-1997|  ST_CLERK|    null|   Bissot|650.124.5234|  3300|           2.0|\n|           50|MATKINSO|        130|      Mozhe|30-10-1997|  ST_CLERK|    null| Atkinson|650.124.6234|  2800|           2.0|\n+-------------+--------+-----------+-----------+----------+----------+--------+---------+------------+------+--------------+\nonly showing top 20 rows\n\n"
          ],
          "output_type": "stream"
        }
      ]
    }
  ],
  "metadata": {},
  "nbformat": 4,
  "nbformat_minor": 2
}