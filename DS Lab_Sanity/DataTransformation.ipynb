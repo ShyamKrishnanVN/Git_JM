{
  "cells": [
    {
      "cell_type": "code",
      "metadata": {
        "id": "820510782_0.14804091341420023"
      },
      "execution_count": 2,
      "source": [
        "from sklearn.datasets import make_blobs\nfrom sklearn.model_selection import train_test_split\nfrom sklearn.preprocessing import MinMaxScaler\nfrom sklearn.linear_model import LogisticRegression\nfrom pickle import dump"
      ],
      "outputs": []
    },
    {
      "cell_type": "code",
      "metadata": {
        "id": "820510782_0.1877866042378864"
      },
      "execution_count": 3,
      "source": [
        "# prepare dataset\nX, y = make_blobs(n_samples=100, centers=2, n_features=2, random_state=1)\n# split data into train and test sets\nX_train, _, y_train, _ = train_test_split(X, y, test_size=0.33, random_state=1)\n# define scaler"
      ],
      "outputs": []
    },
    {
      "cell_type": "code",
      "metadata": {
        "id": "820510782_0.9103323207223823"
      },
      "execution_count": 4,
      "source": [
        "scaler = MinMaxScaler()\n# fit scaler on the training dataset\nscaler.fit(X_train);\n# transform the training dataset\nX_train_scaled = scaler.transform(X_train)"
      ],
      "outputs": []
    },
    {
      "cell_type": "code",
      "metadata": {
        "id": "820510782_0.8506820205937027"
      },
      "execution_count": null,
      "source": [
        "# define model\nmodel = LogisticRegression(solver='lbfgs')\nmodel.fit(X_train_scaled, y_train);"
      ],
      "outputs": []
    },
    {
      "cell_type": "code",
      "metadata": {
        "id": "820510782_0.18394221358729768"
      },
      "execution_count": 6,
      "source": [
        "from Notebook.DSNotebook.NotebookExecutor import NotebookExecutor\nnb = NotebookExecutor()\nsaved_model = nb.save_model(model = scaler, modelName = 'ScalerModel', modelType = 'dp')\n#choose modelType = 'ml' for machine learning models and modelType = 'cv' for computer vision models.\n#Provide ‘column_headers’ as a parameter if they have to be saved in the model."
      ],
      "outputs": []
    },
    {
      "cell_type": "code",
      "metadata": {
        "id": "820510782_0.8333743976125383"
      },
      "execution_count": 8,
      "source": [
        "from Notebook.DSNotebook.NotebookExecutor import NotebookExecutor\nnb = NotebookExecutor()\nloaded_model = nb.load_model(modelId = '821067784')"
      ],
      "outputs": []
    },
    {
      "cell_type": "code",
      "metadata": {
        "id": "820510782_0.22416851072505684"
      },
      "execution_count": 9,
      "source": [
        "loaded_model.transform(X_train)"
      ],
      "outputs": [
        {
          "data": {
            "text/plain": "array([[0.23395852, 0.35842125],\n       [0.79875321, 0.90133484],\n       [0.1727263 , 0.18315143],\n       [0.73324478, 0.85530443],\n       [0.86490997, 0.81400847],\n       [0.84925052, 0.81778689],\n       [0.28151464, 0.21503406],\n       [0.83890271, 1.        ],\n       [0.11768194, 0.25272282],\n       [0.15358548, 0.17127067],\n       [0.22971925, 0.20538083],\n       [0.30388699, 0.27498359],\n       [0.17837018, 0.08705392],\n       [0.19282048, 0.19950001],\n       [0.82758701, 0.78772661],\n       [0.18570507, 0.18105428],\n       [0.21555452, 0.26981763],\n       [0.05071381, 0.23151541],\n       [0.19005398, 0.1752731 ],\n       [0.79317393, 0.78759208],\n       [0.35425701, 0.16953972],\n       [0.82689292, 0.88232276],\n       [0.81355841, 0.76455675],\n       [0.12855764, 0.19135056],\n       [0.89624055, 0.78410253],\n       [0.84206699, 0.89621938],\n       [0.9575363 , 0.89467094],\n       [0.80184776, 0.87825451],\n       [0.76255514, 0.93428527],\n       [0.1826463 , 0.23485323],\n       [0.79744376, 0.80734217],\n       [1.        , 0.72882744],\n       [0.76927084, 0.83614339],\n       [0.73459283, 0.92589868],\n       [0.83855105, 0.86892497],\n       [0.89337759, 0.65864154],\n       [0.24377251, 0.21747541],\n       [0.25293258, 0.34136975],\n       [0.17015267, 0.16581683],\n       [0.09781082, 0.25873148],\n       [0.14807041, 0.12870764],\n       [0.21408907, 0.14046659],\n       [0.15146464, 0.10180892],\n       [0.76313985, 0.96837513],\n       [0.80955751, 0.76904774],\n       [0.91505164, 0.75182912],\n       [0.32698889, 0.0417588 ],\n       [0.19210256, 0.1000778 ],\n       [0.94156966, 0.67736192],\n       [0.83332236, 0.92471684],\n       [0.79571246, 0.84050646],\n       [0.19550959, 0.20749043],\n       [0.80552738, 0.82155677],\n       [0.12501222, 0.        ],\n       [0.20498394, 0.16402074],\n       [0.2098691 , 0.11486197],\n       [0.22023356, 0.24701562],\n       [0.21839815, 0.12216597],\n       [0.16883584, 0.24175307],\n       [0.        , 0.28468564],\n       [0.78737153, 0.93208592],\n       [0.21482032, 0.19243259],\n       [0.84897559, 0.68030412],\n       [0.86293838, 0.83126495],\n       [0.19870447, 0.22141413],\n       [0.14113841, 0.14094497],\n       [0.03915974, 0.21326187]])"
          },
          "metadata": {},
          "execution_count": 10,
          "output_type": "execute_result"
        }
      ]
    }
  ],
  "metadata": {},
  "nbformat": 4,
  "nbformat_minor": 2
}