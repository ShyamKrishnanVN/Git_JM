{
  "cells": [
    {
      "cell_type": "code",
      "metadata": {
        "id": "1293090817_0.08329188258409181"
      },
      "execution_count": null,
      "source": [
        "from Notebook.DSNotebook.NotebookExecutor import NotebookExecutor\nnb = NotebookExecutor()\ndf = nb.get_data('17171692941396512', '@SYS.USERID', 'True', {}, [])\ndf.head()"
      ],
      "outputs": []
    },
    {
      "cell_type": "code",
      "metadata": {
        "id": "1293090817_0.9593022816079779"
      },
      "execution_count": null,
      "source": [
        "import pandas as pd\nfrom time import perf_counter as get_time\nfrom sklearn.model_selection import train_test_split\nfrom sklearn.neighbors import KNeighborsClassifier\nfrom sklearn.metrics import accuracy_score, classification_report\n\n# Define the necessary variables here\n_data   = df    # pd.DataFrame: Full data to process\n_target = 'sex'    # string: Column name of the target variable\n\nif _data is None or _target is None:\n    raise Exception(f'Both _data and _target must be specified')\nelif not (isinstance(_data, pd.DataFrame) and isinstance(_target, str)):\n    raise Exception(f'Datatype of _data must be pd.DataFrame; that of _target must be str')\n\n# Separating the independent and dependent variables into X and y respectively\ny = _data[_target]\nX = _data.drop(columns=_target)\nprint(f'Shape of complete data: {_data.shape}')\n\n# Splitting the dataset into training and testing datasets\nX_train, X_test, y_train, y_test = train_test_split(X, y, test_size=0.3)\nprint(f'Shape of training data: {X_train.shape}')\nprint(f'Shape of testing data : {X_test.shape}')\n\n# Creating the classifier and fitting it to the training data\nknn_clf = KNeighborsClassifier()\ntime_now = get_time()\nknn_clf.fit(X_train, y_train);\nprint(f'Model {knn_clf} trained')\nprint(f'Seconds elapsed: {round(get_time() - time_now, 3)}')\n\n# Making predictions on the training data\npredict_train = knn_clf.predict(X_train)\nprint(f'Predictions on training data made')\n\n# Finding the accuracy score of the training predictions\naccuracy_train = accuracy_score(y_train, predict_train)\nprint(f'Accuracy score of training predictions: {round(accuracy_train, 3)}')\n\n# Printing the classification report of the training predictions\nreport_train = classification_report(y_train, predict_train, digits=3)\nprint(f'Classification report of training predictions:')\nprint(report_train)\n\n# Making predictions on the testing data\npredict_test = knn_clf.predict(X_test)\nprint(f'Predictions on testing data made')\n\n# Finding the accuracy score of the testing predictions\naccuracy_test = accuracy_score(y_test, predict_test)\nprint(f'Accuracy score of testing predictions: {round(accuracy_test, 3)}')\n\n# Printing the classification report of the testing predictions\nreport_test = classification_report(y_test, predict_test, digits=3)\nprint(f'Classification report of testing predictions:')\nprint(report_test)"
      ],
      "outputs": []
    },
    {
      "cell_type": "code",
      "metadata": {
        "id": "1293090817_0.5916126331827964"
      },
      "execution_count": null,
      "source": [
        "from Notebook.DSNotebook.NotebookExecutor import NotebookExecutor\nnb = NotebookExecutor()\nsaved_model = nb.save_model(model = knn_clf, modelName = 'KNN Classifier_V1.dill', modelType = 'ml', X = None, y = None, estimator_type='')\n#X and y are training datasets to get explainer dashboard.\n#estimator_type is to specify algorithm type i.e., classification and regression.\n#Only 'ml’ models with tabular data as input will support in Explainer Dashboard.\n#Choose modelType = 'ml' for machine learning models, modelType = 'cv' for computer vision models and modelType = 'dp' for data transformation pickle files. \n#Provide ‘column_headers’ as a parameter if they have to be saved in the model.\n#If using custom layer in keras, use native save functionality from keras."
      ],
      "outputs": []
    },
    {
      "cell_type": "code",
      "metadata": {
        "id": "1293090817_0.31012250932349206"
      },
      "execution_count": null,
      "source": [
        "def AB_In():\n    from Notebook.DSNotebook.NotebookExecutor import NotebookExecutor\n    nb = NotebookExecutor()\n    df = nb.get_data('17171692941396512', '@SYS.USERID', 'True', {}, [])\n    column_to_drop = 'sex'\n    df_test = df.drop(columns=[column_to_drop])\n    return df_test"
      ],
      "outputs": []
    },
    {
      "cell_type": "code",
      "metadata": {
        "id": "1293090817_0.8776676847987088"
      },
      "execution_count": null,
      "source": [
        "AB_In()"
      ],
      "outputs": []
    }
  ],
  "metadata": {},
  "nbformat": 4,
  "nbformat_minor": 2
}