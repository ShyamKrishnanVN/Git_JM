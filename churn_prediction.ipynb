{
  "cells": [
    {
      "cell_type": "code",
      "metadata": {
        "id": "43745369_0.2869781238036073"
      },
      "execution_count": 1,
      "source": [
        "from Notebook.DSNotebook.NotebookExecutor import NotebookExecutor\nnb = NotebookExecutor()\ndata = nb.get_data('59801689926743119', '@SYS.USERID', 'True', {}, [])\ndata.head(21)"
      ],
      "outputs": [
        {
          "data": {
            "text/plain": [
              "   customerID  gender  SeniorCitizen Partner Dependents  tenure PhoneService MultipleLines InternetService OnlineSecurity OnlineBackup DeviceProtection TechSupport StreamingTV StreamingMovies        Contract PaperlessBilling     PaymentMethod  MonthlyCharges  TotalCharges Churn\n0  0002-ORFBO  Female              0     Yes        Yes       9          Yes            No             DSL             No          Yes               No         Yes         Yes              No        One year              Yes      Mailed check            65.6        593.30    No\n1  0003-MKNFE    Male              0      No         No       9          Yes           Yes             DSL             No           No               No          No          No             Yes  Month-to-month               No      Mailed check            59.9        542.40    No\n2  0004-TLHLJ    Male              0      No         No       4          Yes            No     Fiber optic             No           No              Yes          No          No              No  Month-to-month              Yes  Electronic check            73.9        280.85   Yes"
            ],
            "text/html": [
              "<div>\n<style scoped>\n    .dataframe tbody tr th:only-of-type {\n        vertical-align: middle;\n    }\n\n    .dataframe tbody tr th {\n        vertical-align: top;\n    }\n\n    .dataframe thead th {\n        text-align: right;\n    }\n</style>\n<table border=\"1\" class=\"dataframe\">\n  <thead>\n    <tr style=\"text-align: right;\">\n      <th></th>\n      <th>customerID</th>\n      <th>gender</th>\n      <th>SeniorCitizen</th>\n      <th>Partner</th>\n      <th>Dependents</th>\n      <th>tenure</th>\n      <th>PhoneService</th>\n      <th>MultipleLines</th>\n      <th>InternetService</th>\n      <th>OnlineSecurity</th>\n      <th>OnlineBackup</th>\n      <th>DeviceProtection</th>\n      <th>TechSupport</th>\n      <th>StreamingTV</th>\n      <th>StreamingMovies</th>\n      <th>Contract</th>\n      <th>PaperlessBilling</th>\n      <th>PaymentMethod</th>\n      <th>MonthlyCharges</th>\n      <th>TotalCharges</th>\n      <th>Churn</th>\n    </tr>\n  </thead>\n  <tbody>\n    <tr>\n      <th>0</th>\n      <td>0002-ORFBO</td>\n      <td>Female</td>\n      <td>0</td>\n      <td>Yes</td>\n      <td>Yes</td>\n      <td>9</td>\n      <td>Yes</td>\n      <td>No</td>\n      <td>DSL</td>\n      <td>No</td>\n      <td>Yes</td>\n      <td>No</td>\n      <td>Yes</td>\n      <td>Yes</td>\n      <td>No</td>\n      <td>One year</td>\n      <td>Yes</td>\n      <td>Mailed check</td>\n      <td>65.6</td>\n      <td>593.30</td>\n      <td>No</td>\n    </tr>\n    <tr>\n      <th>1</th>\n      <td>0003-MKNFE</td>\n      <td>Male</td>\n      <td>0</td>\n      <td>No</td>\n      <td>No</td>\n      <td>9</td>\n      <td>Yes</td>\n      <td>Yes</td>\n      <td>DSL</td>\n      <td>No</td>\n      <td>No</td>\n      <td>No</td>\n      <td>No</td>\n      <td>No</td>\n      <td>Yes</td>\n      <td>Month-to-month</td>\n      <td>No</td>\n      <td>Mailed check</td>\n      <td>59.9</td>\n      <td>542.40</td>\n      <td>No</td>\n    </tr>\n    <tr>\n      <th>2</th>\n      <td>0004-TLHLJ</td>\n      <td>Male</td>\n      <td>0</td>\n      <td>No</td>\n      <td>No</td>\n      <td>4</td>\n      <td>Yes</td>\n      <td>No</td>\n      <td>Fiber optic</td>\n      <td>No</td>\n      <td>No</td>\n      <td>Yes</td>\n      <td>No</td>\n      <td>No</td>\n      <td>No</td>\n      <td>Month-to-month</td>\n      <td>Yes</td>\n      <td>Electronic check</td>\n      <td>73.9</td>\n      <td>280.85</td>\n      <td>Yes</td>\n    </tr>\n  </tbody>\n</table>\n</div>"
            ]
          },
          "metadata": {},
          "execution_count": 2,
          "output_type": "execute_result"
        }
      ]
    },
    {
      "cell_type": "code",
      "metadata": {
        "id": "43745369_0.7240590303226329"
      },
      "execution_count": 2,
      "source": [
        "data.columns"
      ],
      "outputs": [
        {
          "data": {
            "text/plain": "Index(['customerID', 'gender', 'SeniorCitizen', 'Partner', 'Dependents',\n       'tenure', 'PhoneService', 'MultipleLines', 'InternetService',\n       'OnlineSecurity', 'OnlineBackup', 'DeviceProtection', 'TechSupport',\n       'StreamingTV', 'StreamingMovies', 'Contract', 'PaperlessBilling',\n       'PaymentMethod', 'MonthlyCharges', 'TotalCharges', 'Churn'],\n      dtype='object')"
          },
          "metadata": {},
          "execution_count": 3,
          "output_type": "execute_result"
        }
      ]
    },
    {
      "cell_type": "code",
      "metadata": {
        "id": "43745369_0.5189264365266095"
      },
      "execution_count": 3,
      "source": [
        "data.dtypes"
      ],
      "outputs": [
        {
          "data": {
            "text/plain": "customerID           object\ngender               object\nSeniorCitizen         int64\nPartner              object\nDependents           object\n                     ...   \nPaperlessBilling     object\nPaymentMethod        object\nMonthlyCharges      float64\nTotalCharges        float64\nChurn                object\nLength: 21, dtype: object"
          },
          "metadata": {},
          "execution_count": 4,
          "output_type": "execute_result"
        }
      ]
    },
    {
      "cell_type": "code",
      "metadata": {
        "id": "43745369_0.3879983866653449"
      },
      "execution_count": 4,
      "source": [
        "data.select_dtypes('object').columns"
      ],
      "outputs": [
        {
          "data": {
            "text/plain": "Index(['customerID', 'gender', 'Partner', 'Dependents', 'PhoneService',\n       'MultipleLines', 'InternetService', 'OnlineSecurity', 'OnlineBackup',\n       'DeviceProtection', 'TechSupport', 'StreamingTV', 'StreamingMovies',\n       'Contract', 'PaperlessBilling', 'PaymentMethod', 'Churn'],\n      dtype='object')"
          },
          "metadata": {},
          "execution_count": 5,
          "output_type": "execute_result"
        }
      ]
    },
    {
      "cell_type": "code",
      "metadata": {
        "id": "43745369_0.04282318683822206"
      },
      "execution_count": 5,
      "source": [
        "data.select_dtypes('number').columns"
      ],
      "outputs": [
        {
          "data": {
            "text/plain": "Index(['SeniorCitizen', 'tenure', 'MonthlyCharges', 'TotalCharges'], dtype='object')"
          },
          "metadata": {},
          "execution_count": 6,
          "output_type": "execute_result"
        }
      ]
    },
    {
      "cell_type": "code",
      "metadata": {
        "id": "43745369_0.6118186462075763"
      },
      "execution_count": null,
      "source": [
        "#Preprocessing"
      ],
      "outputs": []
    },
    {
      "cell_type": "code",
      "metadata": {
        "id": "43745369_0.15182165031789308"
      },
      "execution_count": null,
      "source": [
        "import numpy as np\nfrom sklearn.preprocessing import OneHotEncoder, MinMaxScaler\n\ndef preprocess_categorical(df_in, categorical_columns):\n    df = df_in[categorical_columns].copy()\n    ohe = OneHotEncoder()\n    df_cat = ohe.fit_transform(df);\n    df_cat = df_cat.todense()\n    return df_cat, ohe\n\n\ndef preprocess_numerical(df_in, numerical_columns):\n    df = df_in[numerical_columns].copy()\n    scaler = MinMaxScaler()\n    df_num = scaler.fit_transform(df);\n    return df_num, scaler\n\n\ndef preprocess_data(df_in, categorical_columns, numerical_columns):\n    df_cat, ohe = preprocess_categorical(df_in, categorical_columns)\n    df_num, scaler = preprocess_numerical(df_in, numerical_columns)\n# RAISE ISSUE: WHEN CELL IS PRINTING SOMETHING, ERROR MESSAGE IS TRUNCATED\n    X = np.concatenate((df_cat, df_num), axis=1)\n    return X, ohe, scaler\n\n\n\ncategorical_columns = ['gender', 'Partner', 'Dependents', 'PhoneService',\n       'MultipleLines', 'InternetService', 'OnlineSecurity', 'OnlineBackup',\n       'DeviceProtection', 'TechSupport', 'StreamingTV', 'StreamingMovies',\n       'Contract', 'PaperlessBilling', 'PaymentMethod']\n\nnumerical_columns = ['SeniorCitizen', 'tenure', 'MonthlyCharges', 'TotalCharges']\n\nX, ohe, scaler = preprocess_data(data, categorical_columns, numerical_columns)\ny = data['Churn']"
      ],
      "outputs": []
    },
    {
      "cell_type": "code",
      "metadata": {
        "id": "43745369_0.2772212348979224"
      },
      "execution_count": null,
      "source": [
        "# Modelling"
      ],
      "outputs": []
    },
    {
      "cell_type": "code",
      "metadata": {
        "id": "43745369_0.7265142900132306"
      },
      "execution_count": null,
      "source": [
        "from sklearn.model_selection import train_test_split\nfrom sklearn.ensemble import RandomForestClassifier\nfrom sklearn.metrics import classification_report\n\nX_train, X_test, y_train, y_test = train_test_split(X, y, test_size=0.3)\n\nmodel = RandomForestClassifier()\nmodel.fit(X_train, y_train);\n\npreds_train = model.predict(X_train)\npreds_test = model.predict(X_test)\n\nprint(classification_report(y_train, preds_train))\nprint(classification_report(y_test, preds_test))"
      ],
      "outputs": []
    },
    {
      "cell_type": "code",
      "metadata": {
        "id": "43745369_0.20502670638587506"
      },
      "execution_count": null,
      "source": [
        "# make column transformer object to use for data preprocessing in pipeline\n\nfrom sklearn.compose import ColumnTransformer\n\ncategorical_columns = ['gender', 'Partner', 'Dependents', 'PhoneService',\n       'MultipleLines', 'InternetService', 'OnlineSecurity', 'OnlineBackup',\n       'DeviceProtection', 'TechSupport', 'StreamingTV', 'StreamingMovies',\n       'Contract', 'PaperlessBilling', 'PaymentMethod']\n\nnumerical_columns = ['SeniorCitizen', 'tenure', 'MonthlyCharges', 'TotalCharges']\n\nct = ColumnTransformer(\n    [\n        ('ohe', OneHotEncoder(), categorical_columns),\n        ('scaler', MinMaxScaler(), numerical_columns)\n    ],\n    remainder='drop'\n)\n\nX_trans = ct.fit_transform(data);"
      ],
      "outputs": []
    }
  ],
  "metadata": {},
  "nbformat": 4,
  "nbformat_minor": 2
}
