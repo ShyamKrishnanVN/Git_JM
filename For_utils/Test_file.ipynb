<<<<<<< HEAD
{"cells": [{"cell_type": "code", "metadata": {"id": "98730071_0.7306229196408214"}, "execution_count": null, "source": ["def new_func():\n    print(\"New_V5\")"], "outputs": []}], "metadata": {}, "nbformat": 4, "nbformat_minor": 2}
=======
{"cells": [{"cell_type": "code", "metadata": {"id": "98730071_0.7306229196408214"}, "execution_count": null, "source": ["def new_func():\n    print(\"New_V6\")"], "outputs": []}], "metadata": {}, "nbformat": 4, "nbformat_minor": 2}
>>>>>>> ee54ca8f3bbc54f1e1da60d1be7a0ba9d253c6b4
